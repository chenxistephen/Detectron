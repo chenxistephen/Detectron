{
 "cells": [
  {
   "cell_type": "code",
   "execution_count": 10,
   "metadata": {},
   "outputs": [
    {
     "name": "stdout",
     "output_type": "stream",
     "text": [
      "[['animal\\\\amphibian\\\\frog', '1'], ['animal\\\\arthropod\\\\arachnid\\\\scorpion', '2'], ['animal\\\\arthropod\\\\arachnid\\\\spider', '3'], ['animal\\\\arthropod\\\\crustacean\\\\crab', '4'], ['animal\\\\arthropod\\\\crustacean\\\\lobster', '5'], ['animal\\\\arthropod\\\\crustacean\\\\shrimp', '6'], ['animal\\\\arthropod\\\\insect\\\\ant', '7'], ['animal\\\\arthropod\\\\insect\\\\bee', '8'], ['animal\\\\arthropod\\\\insect\\\\butterfly', '9'], ['animal\\\\arthropod\\\\insect\\\\caterpillar', '10']]\n"
     ]
    }
   ],
   "source": [
    "import json\n",
    "import os\n",
    "import os.path as osp\n",
    "import sys\n",
    "from PIL import Image\n",
    "import pickle as pkl\n",
    "import cv2\n",
    "\n",
    "from detectron.datasets.json_dataset import JsonDataset\n",
    "from detectron.utils.io import load_object, save_object\n",
    "from detectron.datasets.roidb import combined_roidb_for_training\n",
    "import detectron.utils.vis as vis_utils\n",
    "from detectron.core.config import cfg\n",
    "\n",
    "\n",
    "def checkMkdir(dirname):\n",
    "    if not osp.isdir(dirname):\n",
    "        os.makedirs(dirname)\n",
    "        \n",
    "outValFolder = '/media/data/chnxi/GOD/json_annotations/val'\n",
    "\n",
    "checkMkdir(outValFolder)\n",
    "        \n",
    "datasetList = ['COCO_91', 'HomeFurniture',  'OpenImage'] # ['FashionV2'] # #, \n",
    "\n",
    "godLabelFile = '/media/data/chnxi/GOD/taxonomy/GOD_taxonomy_V1.tsv'\n",
    "\n",
    "godLabels = [l.rstrip().split('\\t') for l in open(godLabelFile,'r').readlines()[1:]]\n",
    "print (godLabels[:10])\n",
    "\n",
    "mappingFormat = '/media/data/chnxi/GOD/mappings/dataset_nameid_to_GOD_nameid/{}_mapping_to_GOD.pkl'\n",
    "\n",
    "dataPath = '/media/data/chnxi/'\n",
    "valSetFiles = {'COCO_91': dataPath + 'coco/annotations/instances_minival2014.json',\n",
    "                'FashionV2': dataPath + 'FashionV2/json_annotations/val_annotations.json',\n",
    "                'HomeFurniture': dataPath + 'HomeFurniture/json_annotations/val_annotations.json',\n",
    "                'OpenImage': dataPath + 'OpenImage/json_annotations/validation_annotations.json'\n",
    "               }"
   ]
  },
  {
   "cell_type": "code",
   "execution_count": 11,
   "metadata": {},
   "outputs": [
    {
     "name": "stdout",
     "output_type": "stream",
     "text": [
      "{'full_body-suit': 'fashion\\\\full_body\\\\suit', 'accessories-gloves': 'fashion\\\\gloves', 'bottom_wear-cargo-pants': 'fashion\\\\bottom_wear\\\\cargo_pants', 'dresses-wedding': 'fashion\\\\dresses\\\\wedding_dress', 'shoes-wedges': 'fashion\\\\shoes\\\\wedges', 'bag-duffel': 'fashion\\\\bag\\\\duffel_bag', 'swim_wear-cover-up': 'fashion\\\\swim_wear\\\\cover-up', 'bottom_wear-jeans': 'fashion\\\\bottom_wear\\\\jeans', 'outer_wear-coat': 'fashion\\\\outer_wear\\\\coat', 'bag-tote': 'fashion\\\\bag\\\\tote', 'accessories-glasses': 'fashion\\\\glasses', 'full_body-overalls': 'fashion\\\\full_body\\\\overalls', 'dresses-cocktail': 'fashion\\\\dresses\\\\cocktail_dress', 'top_wear-t-shirt': 'fashion\\\\top_wear\\\\t_shirt', 'top_wear-short-sleeve-button': 'fashion\\\\top_wear\\\\short_sleeve_button', 'under_wear-tights': 'fashion\\\\under_wear\\\\tights', 'bottom_wear-cargo-shorts': 'fashion\\\\bottom_wear\\\\cargo_shorts', 'top_wear-strapless': 'fashion\\\\top_wear\\\\strapless', 'accessories-hat': 'fashion\\\\head_wear\\\\hat', 'accessories-scarf': 'fashion\\\\head_wear\\\\scarf', 'bottom_wear-leggings': 'fashion\\\\bottom_wear\\\\leggings', 'jewelry-earrings': 'fashion\\\\jewelry\\\\earrings', 'bag-briefcase': 'fashion\\\\bag\\\\briefcase', 'shoes-outdoor': 'fashion\\\\shoes\\\\outdoor', 'outer_wear-sweatshirt': 'fashion\\\\outer_wear\\\\sweatshirt', 'dresses-casual': 'fashion\\\\dresses\\\\casual_dress', 'sleepwear-sleepwear': 'fashion\\\\sleepwear', 'jewelry-ring': 'fashion\\\\jewelry\\\\ring', 'top_wear-sleeveless': 'fashion\\\\top_wear\\\\sleeveless', 'shoes-heels': 'fashion\\\\shoes\\\\heels', 'shoes-loafers': 'fashion\\\\shoes\\\\loafers', 'jewelry-watch': 'fashion\\\\jewelry\\\\watch', 'top_wear-crop-top': 'fashion\\\\top_wear\\\\crop\\\\top', 'swim_wear-trunks': 'fashion\\\\swim_wear\\\\trunks', 'shoes-boots': 'fashion\\\\shoes\\\\boots', 'under_wear-boxers': 'fashion\\\\under_wear\\\\boxer_briefs', 'bottom_wear-sweatpants': 'fashion\\\\bottom_wear\\\\sweatpants', 'jewelry-bracelet': 'fashion\\\\jewelry\\\\bracelet', 'bag-messenger': 'fashion\\\\bag\\\\messenger', 'shoes-sandals': 'fashion\\\\shoes\\\\sandals', 'outer_wear-blazer': 'fashion\\\\outer_wear\\\\blazer', 'shoes-flats': 'fashion\\\\shoes\\\\flats', 'bottom_wear-shorts': 'fashion\\\\bottom_wear\\\\shorts', 'bottom_wear-skirt': 'fashion\\\\bottom_wear\\\\skirt', 'shoes-dress': 'fashion\\\\shoes\\\\dress', 'under_wear-bra': 'fashion\\\\under_wear\\\\bra', 'dresses-formal': 'fashion\\\\dresses\\\\formal_dress', 'accessories-wallet': 'fashion\\\\bag\\\\wallet', 'top_wear-button-down': 'fashion\\\\top_wear\\\\button_down', 'swim_wear-bikini': 'fashion\\\\swim_wear\\\\bikini', 'outer_wear-shawl': 'fashion\\\\outer_wear\\\\shawl', 'outer_wear-cardigan': 'fashion\\\\outer_wear\\\\cardigan', 'jewelry-necklace': 'fashion\\\\jewelry\\\\necklace', 'bottom_wear-pants': 'fashion\\\\bottom_wear\\\\pants', 'top_wear-flannel': 'fashion\\\\top_wear\\\\flannel', 'top_wear-blouse': 'fashion\\\\top_wear\\\\blouse', 'shoes-slippers': 'fashion\\\\shoes\\\\slippers', 'bottom_wear-capris': 'fashion\\\\bottom_wear\\\\capris', 'shoes-sneakers': 'fashion\\\\shoes\\\\athletic_or_sneakers', 'under_wear-socks': 'fashion\\\\under_wear\\\\socks', 'bag-backpack': 'fashion\\\\bag\\\\backpack', 'swim_wear-one-piece': 'fashion\\\\swim_wear\\\\one-piece', 'bag-purse': 'fashion\\\\bag\\\\purse', 'bag-clutch': 'fashion\\\\bag\\\\clutch', 'under_wear-briefs': 'fashion\\\\under_wear\\\\briefs', 'accessories-belt': 'fashion\\\\belt', 'under_wear-panties': 'fashion\\\\under_wear\\\\panties', 'outer_wear-vest': 'fashion\\\\outer_wear\\\\vest', 'top_wear-polo-shirt': 'fashion\\\\top_wear\\\\polo_shirt', 'bag-luggage': 'fashion\\\\bag\\\\luggage', 'full_body-jumpsuit': 'fashion\\\\full_body\\\\jumpsuit', 'outer_wear-hoodie': 'fashion\\\\outer_wear\\\\hoodie', 'outer_wear-jacket': 'fashion\\\\outer_wear\\\\jacket', 'under_wear-lingerie': 'fashion\\\\under_wear\\\\lingerie', 'top_wear-halter-top': 'fashion\\\\top_wear\\\\halter_top', 'bottom_wear-yoga-pants': 'fashion\\\\bottom_wear\\\\yoga\\\\pants', 'top_wear-tank-top': 'fashion\\\\top_wear\\\\tank_top', 'accessories-tie': 'fashion\\\\head_wear\\\\tie', 'outer_wear-sweater': 'fashion\\\\outer_wear\\\\sweater', 'top_wear-long-sleeve': 'fashion\\\\top_wear\\\\long_sleeve'}\n"
     ]
    }
   ],
   "source": [
    "print (mapping['name_to_god_name'])"
   ]
  },
  {
   "cell_type": "code",
   "execution_count": 14,
   "metadata": {},
   "outputs": [
    {
     "name": "stdout",
     "output_type": "stream",
     "text": [
      "dataset = COCO_91\n",
      "outFileName = /media/data/chnxi/GOD/json_annotations/val/COCO_91_val_annotations.json\n",
      "[{'supercategory': 'GOD_COCO_91', 'id': 1, 'name': 'animal\\\\amphibian\\\\frog'}, {'supercategory': 'GOD_COCO_91', 'id': 2, 'name': 'animal\\\\arthropod\\\\arachnid\\\\scorpion'}, {'supercategory': 'GOD_COCO_91', 'id': 3, 'name': 'animal\\\\arthropod\\\\arachnid\\\\spider'}, {'supercategory': 'GOD_COCO_91', 'id': 4, 'name': 'animal\\\\arthropod\\\\crustacean\\\\crab'}, {'supercategory': 'GOD_COCO_91', 'id': 5, 'name': 'animal\\\\arthropod\\\\crustacean\\\\lobster'}, {'supercategory': 'GOD_COCO_91', 'id': 6, 'name': 'animal\\\\arthropod\\\\crustacean\\\\shrimp'}, {'supercategory': 'GOD_COCO_91', 'id': 7, 'name': 'animal\\\\arthropod\\\\insect\\\\ant'}, {'supercategory': 'GOD_COCO_91', 'id': 8, 'name': 'animal\\\\arthropod\\\\insect\\\\bee'}, {'supercategory': 'GOD_COCO_91', 'id': 9, 'name': 'animal\\\\arthropod\\\\insect\\\\butterfly'}, {'supercategory': 'GOD_COCO_91', 'id': 10, 'name': 'animal\\\\arthropod\\\\insect\\\\caterpillar'}]\n",
      "[{'supercategory': 'GOD_COCO_91', 'id': 546, 'name': 'vehicle\\\\land_vehicle\\\\bicycle'}, {'supercategory': 'GOD_COCO_91', 'id': 548, 'name': 'vehicle\\\\land_vehicle\\\\car'}, {'supercategory': 'GOD_COCO_91', 'id': 554, 'name': 'vehicle\\\\land_vehicle\\\\motorcycle'}, {'supercategory': 'GOD_COCO_91', 'id': 542, 'name': 'vehicle\\\\aircraft_vehicle\\\\airplane'}, {'supercategory': 'GOD_COCO_91', 'id': 547, 'name': 'vehicle\\\\land_vehicle\\\\bus'}, {'supercategory': 'GOD_COCO_91', 'id': 559, 'name': 'vehicle\\\\land_vehicle\\\\train'}, {'supercategory': 'GOD_COCO_91', 'id': 553, 'name': 'vehicle\\\\land_vehicle\\\\median_or_heavy_truck'}, {'supercategory': 'GOD_COCO_91', 'id': 564, 'name': 'vehicle\\\\water_vehicle\\\\small_boat_or_yacht'}, {'supercategory': 'GOD_COCO_91', 'id': 570, 'name': 'visual_signs\\\\road_traffic_street_signs\\\\traffic_light'}, {'supercategory': 'GOD_COCO_91', 'id': 245, 'name': 'fire_hydrant'}]\n",
      "6==>547\n",
      "67==>401\n",
      "43==>514\n",
      "saving to /media/data/chnxi/GOD/json_annotations/val/COCO_91_val_annotations.json\n",
      "Done\n",
      "dataset = HomeFurniture\n",
      "outFileName = /media/data/chnxi/GOD/json_annotations/val/HomeFurniture_val_annotations.json\n",
      "[{'supercategory': 'GOD_HomeFurniture', 'id': 1, 'name': 'animal\\\\amphibian\\\\frog'}, {'supercategory': 'GOD_HomeFurniture', 'id': 2, 'name': 'animal\\\\arthropod\\\\arachnid\\\\scorpion'}, {'supercategory': 'GOD_HomeFurniture', 'id': 3, 'name': 'animal\\\\arthropod\\\\arachnid\\\\spider'}, {'supercategory': 'GOD_HomeFurniture', 'id': 4, 'name': 'animal\\\\arthropod\\\\crustacean\\\\crab'}, {'supercategory': 'GOD_HomeFurniture', 'id': 5, 'name': 'animal\\\\arthropod\\\\crustacean\\\\lobster'}, {'supercategory': 'GOD_HomeFurniture', 'id': 6, 'name': 'animal\\\\arthropod\\\\crustacean\\\\shrimp'}, {'supercategory': 'GOD_HomeFurniture', 'id': 7, 'name': 'animal\\\\arthropod\\\\insect\\\\ant'}, {'supercategory': 'GOD_HomeFurniture', 'id': 8, 'name': 'animal\\\\arthropod\\\\insect\\\\bee'}, {'supercategory': 'GOD_HomeFurniture', 'id': 9, 'name': 'animal\\\\arthropod\\\\insect\\\\butterfly'}, {'supercategory': 'GOD_HomeFurniture', 'id': 10, 'name': 'animal\\\\arthropod\\\\insect\\\\caterpillar'}]\n",
      "[{'supercategory': 'GOD_HomeFurniture', 'id': 376, 'name': 'home_or_office_furnishing_or_decor\\\\seating\\\\armchair'}, {'supercategory': 'GOD_HomeFurniture', 'id': 388, 'name': 'home_or_office_furnishing_or_decor\\\\storage\\\\basket'}, {'supercategory': 'GOD_HomeFurniture', 'id': 322, 'name': 'home_or_office_furnishing_or_decor\\\\bathtub'}, {'supercategory': 'GOD_HomeFurniture', 'id': 323, 'name': 'home_or_office_furnishing_or_decor\\\\bed'}, {'supercategory': 'GOD_HomeFurniture', 'id': 328, 'name': 'home_or_office_furnishing_or_decor\\\\bedlinen'}, {'supercategory': 'GOD_HomeFurniture', 'id': 378, 'name': 'home_or_office_furnishing_or_decor\\\\seating\\\\bench'}, {'supercategory': 'GOD_HomeFurniture', 'id': 390, 'name': 'home_or_office_furnishing_or_decor\\\\storage\\\\cabinet'}, {'supercategory': 'GOD_HomeFurniture', 'id': 330, 'name': 'home_or_office_furnishing_or_decor\\\\candle_or_candle_holder'}, {'supercategory': 'GOD_HomeFurniture', 'id': 125, 'name': 'electronics\\\\home_appliances\\\\fan'}, {'supercategory': 'GOD_HomeFurniture', 'id': 363, 'name': 'home_or_office_furnishing_or_decor\\\\lighting\\\\ceiling_light'}]\n",
      "32==>384\n",
      "1==>376\n",
      "saving to /media/data/chnxi/GOD/json_annotations/val/HomeFurniture_val_annotations.json\n",
      "Done\n",
      "dataset = OpenImage\n",
      "outFileName = /media/data/chnxi/GOD/json_annotations/val/OpenImage_val_annotations.json\n",
      "[{'supercategory': 'GOD_OpenImage', 'id': 1, 'name': 'animal\\\\amphibian\\\\frog'}, {'supercategory': 'GOD_OpenImage', 'id': 2, 'name': 'animal\\\\arthropod\\\\arachnid\\\\scorpion'}, {'supercategory': 'GOD_OpenImage', 'id': 3, 'name': 'animal\\\\arthropod\\\\arachnid\\\\spider'}, {'supercategory': 'GOD_OpenImage', 'id': 4, 'name': 'animal\\\\arthropod\\\\crustacean\\\\crab'}, {'supercategory': 'GOD_OpenImage', 'id': 5, 'name': 'animal\\\\arthropod\\\\crustacean\\\\lobster'}, {'supercategory': 'GOD_OpenImage', 'id': 6, 'name': 'animal\\\\arthropod\\\\crustacean\\\\shrimp'}, {'supercategory': 'GOD_OpenImage', 'id': 7, 'name': 'animal\\\\arthropod\\\\insect\\\\ant'}, {'supercategory': 'GOD_OpenImage', 'id': 8, 'name': 'animal\\\\arthropod\\\\insect\\\\bee'}, {'supercategory': 'GOD_OpenImage', 'id': 9, 'name': 'animal\\\\arthropod\\\\insect\\\\butterfly'}, {'supercategory': 'GOD_OpenImage', 'id': 10, 'name': 'animal\\\\arthropod\\\\insect\\\\caterpillar'}]\n",
      "[{'supercategory': 'GOD_OpenImage', 'id': 89, 'name': 'animal\\\\reptile\\\\tortoise'}, {'supercategory': 'GOD_OpenImage', 'id': 23, 'name': 'animal\\\\bird\\\\magpie'}, {'supercategory': 'GOD_OpenImage', 'id': 90, 'name': 'animal\\\\reptile\\\\turtle\\\\sea_turtle'}, {'supercategory': 'GOD_OpenImage', 'id': 484, 'name': 'sports_equipment\\\\american_football_and_soccer_ball\\\\football'}, {'supercategory': 'GOD_OpenImage', 'id': 545, 'name': 'vehicle\\\\land_vehicle\\\\ambulance'}, {'supercategory': 'GOD_OpenImage', 'id': 362, 'name': 'home_or_office_furnishing_or_decor\\\\ladder_or_step_stool'}, {'supercategory': 'GOD_OpenImage', 'id': 428, 'name': 'medical_equipment\\\\syringe'}, {'supercategory': 'GOD_OpenImage', 'id': 384, 'name': 'home_or_office_furnishing_or_decor\\\\sink\\\\sink'}, {'supercategory': 'GOD_OpenImage', 'id': 447, 'name': 'musical_instrument\\\\woodwind_instrument\\\\organ'}, {'supercategory': 'GOD_OpenImage', 'id': 144, 'name': 'electronics\\\\home_entertainment\\\\cassette_deck'}]\n",
      "424==>543\n",
      "409==>579\n",
      "44==>512\n",
      "saving to /media/data/chnxi/GOD/json_annotations/val/OpenImage_val_annotations.json\n",
      "Done\n"
     ]
    }
   ],
   "source": [
    "updateAnno = True\n",
    "for dataset in datasetList:\n",
    "    print (\"dataset = {}\".format(dataset))\n",
    "    outFileName = osp.join(outValFolder, '{}_val_annotations.json'.format(dataset))\n",
    "    print (\"outFileName = {}\".format(outFileName))\n",
    "    mapFile = mappingFormat.format(dataset)\n",
    "    mapping = pkl.load(open(mapFile,'rb'))\n",
    "    #print (mapping.keys())\n",
    "    id_map = mapping['id_map']\n",
    "    name_map = mapping['name_to_god_name']\n",
    "    \n",
    "    annoFile = valSetFiles[dataset]\n",
    "    annoData = json.load(open(annoFile,'r'))\n",
    "    #print (anno.keys())\n",
    "    \n",
    "    \n",
    "    godCateg = []\n",
    "    supercat = 'GOD_{}'.format(dataset)\n",
    "    for god_categ in godLabels:\n",
    "        cls = god_categ[0]\n",
    "        id = int(god_categ[1])\n",
    "        cats = {'supercategory':supercat,\n",
    "                'id':id,\n",
    "                'name':cls}\n",
    "        godCateg.append(cats) \n",
    "        \n",
    "        \n",
    "    subsetCateg = []\n",
    "    for org_cat in annoData['categories']:\n",
    "        org_id = org_cat['id']\n",
    "        if org_id in id_map:\n",
    "            god_id = id_map[org_id]\n",
    "            org_name = org_cat['name']\n",
    "            if dataset == 'OpenImage':\n",
    "                org_name = org_name.lower().replace('_',' ')\n",
    "            cats = {'supercategory':supercat,\n",
    "                    'id':god_id,\n",
    "                    'name':name_map[org_name]}\n",
    "            subsetCateg.append(cats)\n",
    "    \n",
    "    \n",
    "    \n",
    "    #################################################################################\n",
    "#     for ix, categ in enumerate(annoData['categories']):\n",
    "#         src_id = categ['id']\n",
    "#         if src_id in id_map:\n",
    "#             categ['id'] = id_map[src_id]\n",
    "# #             print (\"{}==>{}\".format(src_id, id_map[src_id]))\n",
    "# #             print (categ)\n",
    "#             newCateg.append(categ)\n",
    "#         else:\n",
    "#             print (\"{} not in GOD\".format(categ['name']))\n",
    "    #################################################################################\n",
    "    \n",
    "    print(godCateg[:10])\n",
    "    print (subsetCateg[:10])\n",
    "    annoData['categories'] = godCateg\n",
    "    annoData['subset_categories'] = subsetCateg\n",
    "    \n",
    "    #################################################################################\n",
    "    if osp.exists(outFileName) and not updateAnno:\n",
    "        godAnnoData = json.load(open(outFileName,'r'))\n",
    "        annoData['annotations'] = godAnnoData['annotations']\n",
    "    else: # if not exists(outFileName) or  updateAnno\n",
    "        newAnnos = []\n",
    "        for ox, obj in enumerate(annoData['annotations']):\n",
    "            if obj['category_id'] in id_map:\n",
    "                src_id = obj['category_id']\n",
    "                god_id = id_map[obj['category_id']]\n",
    "                obj['category_id'] = god_id\n",
    "                newAnnos.append(obj)\n",
    "                if (ox + 1) % 10000 == 0:\n",
    "                    print (\"{}==>{}\".format(src_id, god_id))\n",
    "    #                 print (obj)\n",
    "        annoData['annotations'] = newAnnos\n",
    "    print (\"saving to {}\".format(outFileName))\n",
    "    with open(outFileName,'w') as fout:\n",
    "        json.dump(annoData, fout)\n",
    "    print (\"Done\")\n",
    "    "
   ]
  },
  {
   "cell_type": "code",
   "execution_count": null,
   "metadata": {},
   "outputs": [],
   "source": []
  }
 ],
 "metadata": {
  "kernelspec": {
   "display_name": "Python 3",
   "language": "python",
   "name": "python3"
  },
  "language_info": {
   "codemirror_mode": {
    "name": "ipython",
    "version": 3
   },
   "file_extension": ".py",
   "mimetype": "text/x-python",
   "name": "python",
   "nbconvert_exporter": "python",
   "pygments_lexer": "ipython3",
   "version": "3.6.0"
  }
 },
 "nbformat": 4,
 "nbformat_minor": 2
}
