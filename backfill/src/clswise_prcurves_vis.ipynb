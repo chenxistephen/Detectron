{
 "cells": [
  {
   "cell_type": "code",
   "execution_count": 2,
   "metadata": {},
   "outputs": [
    {
     "name": "stdout",
     "output_type": "stream",
     "text": [
      "['armchair', 'bakeware', 'basket', 'bathroom_faucet', 'bathroom_sink', 'bathtub', 'bed', 'bed_linens', 'bench', 'cabinet', 'candle_or_candle_holder', 'ceiling_fan', 'ceiling_light', 'chair', 'clock', 'comforter', 'cooktop', 'cookware', 'crib', 'curtain', 'cushion', 'desk_or_table', 'dinnerware_or_serveware', 'dishwasher', 'drawer_chest', 'fireplace', 'floor_lamp', 'frame_and_picture', 'holiday_decoration', 'kitchen_faucet', 'kitchen_island', 'kitchen_sink', 'ladder_or_stepstool', 'lighting_other', 'microwave', 'mirror', 'nightstand', 'oven', 'paper_decoration', 'pillow', 'pitcher', 'plant_and_pot', 'range_hood', 'refrigerator', 'rug_or_mat', 'shelving', 'shower', 'sofa', 'table_lamp', 'throwpillow', 'toilet', 'towel', 'toy', 'toy_organizer', 'tv_monitor', 'vase', 'wardrobe', 'washer_and_dryer']\n",
      "recallThrs.shape = (101,), all_precs.shape = (58, 101), all_scores.shape = (58, 101)\n"
     ]
    }
   ],
   "source": [
    "import os\n",
    "import os.path as osp\n",
    "import sys\n",
    "import pickle\n",
    "\n",
    "\n",
    "dataset = 'HF' # {'COCO', 'HF'}\n",
    "\n",
    "if dataset == 'COCO':\n",
    "    prFile = '/home/chnxi/Detectron/backfill/COCO_Mask_Detector/coco_2014_minival/test/coco_2014_minival/generalized_rcnn/classwise_pr_curves.pkl'\n",
    "    saveClsThrshFile = '/home/chnxi/Detectron/backfill/COCO_Mask_Detector/coco_2014_minival/class_thresholds_at_pr.pkl'\n",
    "elif dataset == 'HF':\n",
    "    prFile = '/home/chnxi/Detectron/backfill/HF_Detector/furniture_val/test/furniture_val/retinanet/classwise_pr_curves.pkl'\n",
    "    saveClsThrshFile = '/home/chnxi/Detectron/backfill/HF_Detector/furniture_val/class_thresholds_at_pr.pkl'\n",
    "    #labelFile = '/media/data/chnxi/HomeFurniture/taxonomy/furniture_58_labels.txt'\n",
    "    #classes = [l.rstrip() for l in open(labelFile,'r').readlines()]\n",
    "\n",
    "    \n",
    "    \n",
    "d = pickle.load(open(prFile,'rb'))\n",
    "\n",
    "recallThrs = d['recallThrs']\n",
    "\n",
    "all_precs = d['clsPrecisions']\n",
    "\n",
    "all_scores = d['clsScores']\n",
    "\n",
    "cls_aps = d['clsAPs']\n",
    "\n",
    "classes = d['classes'][1:] # remove background\n",
    "print (classes)\n",
    "print (\"recallThrs.shape = {}, all_precs.shape = {}, all_scores.shape = {}\".format(recallThrs.shape, all_precs.shape, all_scores.shape))"
   ]
  },
  {
   "cell_type": "code",
   "execution_count": 8,
   "metadata": {
    "scrolled": true
   },
   "outputs": [
    {
     "name": "stdout",
     "output_type": "stream",
     "text": [
      "[0.   0.01 0.02 0.03 0.04 0.05 0.06 0.07 0.08 0.09 0.1  0.11 0.12 0.13\n",
      " 0.14 0.15 0.16 0.17 0.18 0.19 0.2  0.21 0.22 0.23 0.24 0.25 0.26 0.27\n",
      " 0.28 0.29 0.3  0.31 0.32 0.33 0.34 0.35 0.36 0.37 0.38 0.39 0.4  0.41\n",
      " 0.42 0.43 0.44 0.45 0.46 0.47 0.48 0.49 0.5  0.51 0.52 0.53 0.54 0.55\n",
      " 0.56 0.57 0.58 0.59 0.6  0.61 0.62 0.63 0.64 0.65 0.66 0.67 0.68 0.69\n",
      " 0.7  0.71 0.72 0.73 0.74 0.75 0.76 0.77 0.78 0.79 0.8  0.81 0.82 0.83\n",
      " 0.84 0.85 0.86 0.87 0.88 0.89 0.9  0.91 0.92 0.93 0.94 0.95 0.96 0.97\n",
      " 0.98 0.99 1.  ]\n",
      "[1.         0.71428571 0.71428571 0.71428571 0.71428571 0.71428571\n",
      " 0.71428571 0.71428571 0.71428571 0.71428571 0.71428571 0.71428571\n",
      " 0.71428571 0.71428571 0.71428571 0.5483871  0.5483871  0.42222222\n",
      " 0.33333333 0.33333333 0.33333333 0.30263158 0.2962963  0.25252525\n",
      " 0.24427481 0.24427481 0.24427481 0.24427481 0.24427481 0.24427481\n",
      " 0.24427481 0.22147651 0.22077922 0.21621622 0.21621622 0.21621622\n",
      " 0.21621622 0.21621622 0.21578947 0.21182266 0.21182266 0.20091324\n",
      " 0.20087336 0.20087336 0.1902834  0.18897638 0.18867925 0.18867925\n",
      " 0.18214286 0.1774744  0.15588235 0.1108871  0.10831721 0.10694184\n",
      " 0.09899329 0.09899329 0.09302326 0.09212481 0.09212481 0.07334109\n",
      " 0.07103219 0.06834911 0.0668693  0.06485963 0.04978038 0.04886442\n",
      " 0.04886442 0.0443769  0.0443769  0.03974221 0.02813203 0.\n",
      " 0.         0.         0.         0.         0.         0.\n",
      " 0.         0.         0.         0.         0.         0.\n",
      " 0.         0.         0.         0.         0.         0.\n",
      " 0.         0.         0.         0.         0.         0.\n",
      " 0.         0.         0.         0.         0.        ]\n",
      "[0.76778102 0.53818691 0.51568365 0.51217085 0.50557959 0.49916312\n",
      " 0.48547533 0.48535657 0.48187205 0.47369111 0.4650054  0.46468711\n",
      " 0.46125305 0.45438516 0.45222846 0.42682037 0.42629686 0.38789248\n",
      " 0.36271533 0.3616595  0.3585394  0.34661302 0.34338409 0.32876384\n",
      " 0.31415331 0.31027052 0.3041501  0.30044386 0.29970336 0.29949141\n",
      " 0.2964026  0.28550744 0.2842828  0.28064662 0.27921373 0.27908882\n",
      " 0.2770772  0.27566475 0.27440912 0.27041483 0.26978397 0.25812143\n",
      " 0.25495917 0.25436655 0.24794969 0.24522257 0.24315403 0.24106747\n",
      " 0.23652919 0.23298903 0.22481032 0.19550662 0.19262381 0.19172129\n",
      " 0.18366893 0.18357368 0.17674278 0.17500816 0.17446816 0.1561543\n",
      " 0.15266845 0.14854282 0.14579728 0.14178751 0.12012594 0.11724985\n",
      " 0.11537345 0.10314694 0.10273726 0.08903163 0.01320001 0.\n",
      " 0.         0.         0.         0.         0.         0.\n",
      " 0.         0.         0.         0.         0.         0.\n",
      " 0.         0.         0.         0.         0.         0.\n",
      " 0.         0.         0.         0.         0.         0.\n",
      " 0.         0.         0.         0.         0.        ]\n",
      "0.1055576034387222\n",
      "len(scores) = 39\n"
     ]
    }
   ],
   "source": [
    "showCateg = 'wardrobe'\n",
    "catid = classes.index(showCateg)\n",
    "print (recallThrs)\n",
    "print (all_precs[catid])\n",
    "print (all_scores[catid])\n",
    "print (d['clsAPs'][catid])\n",
    "print (\"len(scores) = {}\".format(len(set(all_precs[catid]))))"
   ]
  },
  {
   "cell_type": "code",
   "execution_count": 13,
   "metadata": {},
   "outputs": [
    {
     "name": "stdout",
     "output_type": "stream",
     "text": [
      "Target saving PR thresholds to /home/chnxi/Detectron/backfill/HF_Detector/furniture_val/class_thresholds_at_pr.pkl\n"
     ]
    },
    {
     "data": {
      "image/png": "[encoded data removed]",
      "text/plain": [
       "<Figure size 1440x288 with 2 Axes>"
      ]
     },
     "metadata": {
      "needs_background": "light"
     },
     "output_type": "display_data"
    },
    {
     "name": "stdout",
     "output_type": "stream",
     "text": [
      "clsThrshAtPrec = {0.9: array([0.        , 0.        , 0.        , 0.        , 0.        ,\n",
      "       0.        , 0.        , 0.        , 0.        , 0.        ,\n",
      "       0.        , 0.        , 0.        , 0.        , 0.        ,\n",
      "       0.        , 0.        , 0.        , 0.        , 0.        ,\n",
      "       0.        , 0.        , 0.        , 0.        , 0.        ,\n",
      "       0.        , 0.        , 0.        , 0.        , 0.        ,\n",
      "       0.        , 0.        , 0.        , 0.        , 0.        ,\n",
      "       0.        , 0.        , 0.        , 0.        , 0.        ,\n",
      "       0.        , 0.        , 0.        , 0.        , 0.        ,\n",
      "       0.        , 0.        , 0.        , 0.        , 0.        ,\n",
      "       0.        , 0.        , 0.        , 0.        , 0.        ,\n",
      "       0.        , 0.76778102, 0.        ]), 0.8: array([0.        , 0.        , 0.        , 0.        , 0.        ,\n",
      "       0.        , 0.        , 0.        , 0.        , 0.        ,\n",
      "       0.        , 0.        , 0.        , 0.        , 0.        ,\n",
      "       0.        , 0.        , 0.        , 0.        , 0.        ,\n",
      "       0.        , 0.        , 0.        , 0.        , 0.        ,\n",
      "       0.        , 0.        , 0.        , 0.        , 0.        ,\n",
      "       0.        , 0.        , 0.        , 0.        , 0.        ,\n",
      "       0.        , 0.        , 0.        , 0.        , 0.        ,\n",
      "       0.        , 0.        , 0.        , 0.        , 0.        ,\n",
      "       0.        , 0.        , 0.        , 0.        , 0.        ,\n",
      "       0.        , 0.        , 0.        , 0.        , 0.        ,\n",
      "       0.        , 0.76778102, 0.        ])}\n",
      "clsThrshAtRec = {0.7: array([0.        , 0.        , 0.        , 0.        , 0.        ,\n",
      "       0.        , 0.        , 0.        , 0.        , 0.        ,\n",
      "       0.        , 0.        , 0.        , 0.        , 0.        ,\n",
      "       0.        , 0.        , 0.        , 0.        , 0.        ,\n",
      "       0.        , 0.        , 0.        , 0.        , 0.        ,\n",
      "       0.        , 0.        , 0.        , 0.        , 0.        ,\n",
      "       0.        , 0.        , 0.        , 0.        , 0.        ,\n",
      "       0.        , 0.        , 0.        , 0.        , 0.        ,\n",
      "       0.        , 0.        , 0.        , 0.        , 0.        ,\n",
      "       0.        , 0.        , 0.        , 0.        , 0.        ,\n",
      "       0.        , 0.        , 0.        , 0.        , 0.        ,\n",
      "       0.        , 0.01320001, 0.        ]), 0.5: array([0.        , 0.        , 0.        , 0.        , 0.        ,\n",
      "       0.        , 0.        , 0.        , 0.        , 0.        ,\n",
      "       0.        , 0.        , 0.        , 0.        , 0.        ,\n",
      "       0.        , 0.        , 0.        , 0.        , 0.        ,\n",
      "       0.        , 0.        , 0.        , 0.        , 0.        ,\n",
      "       0.        , 0.        , 0.        , 0.        , 0.        ,\n",
      "       0.        , 0.        , 0.        , 0.        , 0.        ,\n",
      "       0.        , 0.        , 0.        , 0.        , 0.        ,\n",
      "       0.        , 0.        , 0.        , 0.        , 0.        ,\n",
      "       0.        , 0.        , 0.        , 0.        , 0.        ,\n",
      "       0.        , 0.        , 0.        , 0.        , 0.        ,\n",
      "       0.        , 0.22481032, 0.        ])}\n"
     ]
    }
   ],
   "source": [
    "import matplotlib.pyplot as plt\n",
    "import numpy as np\n",
    "\n",
    "print (\"Target saving PR thresholds to {}\".format(saveClsThrshFile))\n",
    "\n",
    "vis = True\n",
    "saveThrshFile = False\n",
    "clsNum = all_precs.shape[0]\n",
    "\n",
    "classIds = [56] #range(clsNum) #[78]\n",
    "visClsNum = 1\n",
    "\n",
    "#clsNum = 10\n",
    "\n",
    "precList = [0.9, 0.8]\n",
    "recList = [0.7, 0.5]\n",
    "\n",
    "clsThrshAtPrec = {}\n",
    "for p in precList:\n",
    "    clsThrshAtPrec[p] = np.zeros(clsNum)\n",
    "    \n",
    "clsThrshAtRec = {}\n",
    "for r in recList:\n",
    "    clsThrshAtRec[r] = np.zeros(clsNum)\n",
    "\n",
    "def findPrecScoreThrsh(prec, pthrsh, scores):\n",
    "    if len(np.where(prec >= pthrsh)[0]) > 0:\n",
    "        (p,i) = min((p,i) for (i,p) in enumerate(prec) if p >= pthrsh)\n",
    "        return scores[i], p, i\n",
    "    else: # highest precision didin't reach threshold, take the precision/score at the max precision\n",
    "        max_prec = max(prec)\n",
    "        max_prec_idx = np.where(prec==max_prec)[0][0]\n",
    "        return scores[max_prec_idx], max_prec, max_prec_idx\n",
    "\n",
    "def findRecScoreThrsh(rec, rthrsh, scores):\n",
    "    idx = int(rthrsh*100)\n",
    "    return scores[idx], idx\n",
    "\n",
    "if vis:\n",
    "    f, axarr = plt.subplots(int(np.ceil(visClsNum/2)), 2, figsize=(20, 4 * visClsNum))\n",
    "    plt.axis('on')\n",
    "    major_ticks = np.arange(0., 1, 0.1) \n",
    "for plotid, cid in enumerate(classIds): #range(clsNum-10, clsNum): \n",
    "    cls_prec = all_precs[cid,:]\n",
    "    cls_scores = all_scores[cid,:]\n",
    "    \n",
    "    (min_prec,min_prec_idx) = min((p,i) for (i,p) in enumerate(cls_prec) if p > 0)\n",
    "    maxClsRecall = recallThrs[min_prec_idx]\n",
    "    score_at_max_cls_recall = cls_scores[min_prec_idx]\n",
    "    \n",
    "    #print (\"cid={}, min_prec_idx = {}, min_prec = {}, max_recall = {}, score_at_max_cls_recall = {}\".format(cid, min_prec_idx, min_prec, maxClsRecall, score_at_max_cls_recall))\n",
    "    \n",
    "    for p in precList:\n",
    "        score_at_p_thrsh, p_at_thrsh, pidx = findPrecScoreThrsh(cls_prec, p, cls_scores)\n",
    "        clsThrshAtPrec[p][cid] = score_at_p_thrsh\n",
    "        \n",
    "    for r in recList:\n",
    "        score_at_r_thrsh, ridx = findRecScoreThrsh(recallThrs, r, cls_scores)\n",
    "        clsThrshAtRec[r][cid] = max(score_at_r_thrsh, score_at_max_cls_recall)\n",
    "        \n",
    "    #print (\"P@{} Score = {}, real precision = {}\".format(0.9, score_p_at_thrsh, p_at_thrsh))\n",
    "    if vis and plotid < visClsNum:\n",
    "        ax = axarr[plotid]\n",
    "        ax.set_xticks(major_ticks)                                                       \n",
    "        ax.set_yticks(major_ticks)                                                       \n",
    "        ax.plot(recallThrs, cls_prec, 'b-')\n",
    "        ax.annotate('PR=({:.3f}, {:.3f}):{:.3f}'.format(cls_prec[pidx], recallThrs[pidx], cls_scores[pidx]), xy=(recallThrs[pidx], cls_prec[pidx]))\n",
    "        ax.annotate('PR=({:.3f}, {:.3f}):{:.3f}'.format(cls_prec[ridx], recallThrs[ridx], cls_scores[ridx]), xy=(recallThrs[ridx], cls_prec[ridx]))  \n",
    "        ax.set_title('class {}: AP={:.1f}'.format(classes[cid], cls_aps[cid]*100))\n",
    "        ax.grid()\n",
    "\n",
    "plt.show()\n",
    "\n",
    "print (\"clsThrshAtPrec = {}\".format(clsThrshAtPrec))\n",
    "print (\"clsThrshAtRec = {}\".format(clsThrshAtRec))\n",
    "\n",
    "class_thresholds = {'prec_at':clsThrshAtPrec, \n",
    "                    'rec_at':clsThrshAtRec, \n",
    "                    'classes': classes,\n",
    "                     'cls_aps': cls_aps}\n",
    "\n",
    "if saveThrshFile:\n",
    "    with open(saveClsThrshFile, 'wb') as f:\n",
    "        pickle.dump(class_thresholds, f)    \n",
    "    print (\"Saved to {}\".format(saveClsThrshFile))\n"
   ]
  },
  {
   "cell_type": "code",
   "execution_count": 4,
   "metadata": {},
   "outputs": [],
   "source": [
    "plt.show()"
   ]
  },
  {
   "cell_type": "code",
   "execution_count": null,
   "metadata": {},
   "outputs": [],
   "source": []
  },
  {
   "cell_type": "code",
   "execution_count": null,
   "metadata": {},
   "outputs": [],
   "source": []
  },
  {
   "cell_type": "code",
   "execution_count": null,
   "metadata": {},
   "outputs": [],
   "source": []
  }
 ],
 "metadata": {
  "kernelspec": {
   "display_name": "Python 3",
   "language": "python",
   "name": "python3"
  },
  "language_info": {
   "codemirror_mode": {
    "name": "ipython",
    "version": 3
   },
   "file_extension": ".py",
   "mimetype": "text/x-python",
   "name": "python",
   "nbconvert_exporter": "python",
   "pygments_lexer": "ipython3",
   "version": "3.6.0"
  }
 },
 "nbformat": 4,
 "nbformat_minor": 2
}
