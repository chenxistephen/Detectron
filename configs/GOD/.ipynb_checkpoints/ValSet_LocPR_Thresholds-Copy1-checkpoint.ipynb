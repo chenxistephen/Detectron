{
 "cells": [
  {
   "cell_type": "code",
   "execution_count": 1,
   "metadata": {},
   "outputs": [],
   "source": [
    "import pickle as pkl\n",
    "import json\n",
    "import os\n",
    "import os.path as osp\n",
    "import sys\n",
    "import pandas as pd"
   ]
  },
  {
   "cell_type": "code",
   "execution_count": 2,
   "metadata": {},
   "outputs": [],
   "source": [
    "valSetList = ['GOD_OpenImage_val', 'GOD_FashionV2_val','GOD_furniture_val','GOD_coco_2014_minival']\n",
    "def getValFormat(modelName, valset):\n",
    "    godModelPath = '/media/data/chnxi/GOD/Models/'\n",
    "    test_scale = 400\n",
    "    softNMS = False\n",
    "    evalFolder = 'Test_{}-SoftNMS-{}'.format(test_scale, softNMS)\n",
    "    modelType = 'retinanet' if 'ret' in modelName else 'generalized_rcnn'\n",
    "    valFolderFormat = osp.join(godModelPath, modelName, evalFolder, valset, modelType)\n",
    "    print (valFolderFormat)\n",
    "    return valFolderFormat   "
   ]
  },
  {
   "cell_type": "code",
   "execution_count": 3,
   "metadata": {},
   "outputs": [],
   "source": [
    "import matplotlib.pyplot as plt\n",
    "colors = ['b','r','g','m']\n",
    "\n",
    "def plotPR(modelName):\n",
    "    prtTable = {}\n",
    "    fig, ax = plt.subplots()\n",
    "\n",
    "    plt.grid(True)\n",
    "    plt.title(modelName)\n",
    "    for ix, valset in enumerate(valSetList):\n",
    "        valFolder = getValFormat(modelName, valset) \n",
    "        #osp.join(godModelPath, modelName, evalFolder, valset, modelType)\n",
    "        #print (valFolder)\n",
    "        locPkl = osp.join(valFolder, 'localization_pr_curves.pkl')\n",
    "        d = pkl.load(open(locPkl,'rb'))\n",
    "        print (d.keys())\n",
    "        print(d['locAP50'])\n",
    "        #print (d['loc_thrsh_at_prec'])\n",
    "        #print (d['loc_thrsh_at_rec'])\n",
    "        dd = {key:d['loc_thrsh_at_prec'][key][0] for key in d['loc_thrsh_at_prec']}\n",
    "        #print (dd)\n",
    "        df  = pd.DataFrame.from_dict(dd, orient='index')\n",
    "        prtTable[valset] = df\n",
    "        col = colors[ix]\n",
    "        ax.plot(d['recallThrs'], d['locPrecisions'][0,:], col+'-', label=valset)\n",
    "    plt.legend()\n",
    "    return prtTable"
   ]
  },
  {
   "cell_type": "code",
   "execution_count": 6,
   "metadata": {},
   "outputs": [
    {
     "name": "stdout",
     "output_type": "stream",
     "text": [
      "/media/data/chnxi/GOD/Models/Open800k_580/retr50_bs_4-iter_450000-lr_0.01/Test_400-SoftNMS-False/GOD_OpenImage_val/retinanet\n",
      "dict_keys(['recallThrs', 'locPrecisions', 'locAPs', 'locAP50', 'locAPDict', 'locAP50Dict', 'loc_thrsh_at_prec', 'loc_thrsh_at_rec', 'classes'])\n",
      "[0.2680435725116374]\n",
      "/media/data/chnxi/GOD/Models/Open800k_580/retr50_bs_4-iter_450000-lr_0.01/Test_400-SoftNMS-False/GOD_FashionV2_val/retinanet\n",
      "dict_keys(['recallThrs', 'locPrecisions', 'locAPs', 'locAP50', 'locAPDict', 'locAP50Dict', 'loc_thrsh_at_prec', 'loc_thrsh_at_rec', 'classes'])\n",
      "[0.6246712498865428]\n",
      "/media/data/chnxi/GOD/Models/Open800k_580/retr50_bs_4-iter_450000-lr_0.01/Test_400-SoftNMS-False/GOD_furniture_val/retinanet\n",
      "dict_keys(['recallThrs', 'locPrecisions', 'locAPs', 'locAP50', 'locAPDict', 'locAP50Dict', 'loc_thrsh_at_prec', 'loc_thrsh_at_rec', 'classes'])\n",
      "[0.5694972052484]\n",
      "/media/data/chnxi/GOD/Models/Open800k_580/retr50_bs_4-iter_450000-lr_0.01/Test_400-SoftNMS-False/GOD_coco_2014_minival/retinanet\n",
      "dict_keys(['recallThrs', 'locPrecisions', 'locAPs', 'locAP50', 'locAPDict', 'locAP50Dict', 'loc_thrsh_at_prec', 'loc_thrsh_at_rec', 'classes'])\n",
      "[0.34837182927144617]\n",
      "GOD_OpenImage_val\n"
     ]
    },
    {
     "data": {
      "text/html": [
       "<div>\n",
       "<style scoped>\n",
       "    .dataframe tbody tr th:only-of-type {\n",
       "        vertical-align: middle;\n",
       "    }\n",
       "\n",
       "    .dataframe tbody tr th {\n",
       "        vertical-align: top;\n",
       "    }\n",
       "\n",
       "    .dataframe thead th {\n",
       "        text-align: right;\n",
       "    }\n",
       "</style>\n",
       "<table border=\"1\" class=\"dataframe\">\n",
       "  <thead>\n",
       "    <tr style=\"text-align: right;\">\n",
       "      <th></th>\n",
       "      <th>score</th>\n",
       "      <th>recall</th>\n",
       "    </tr>\n",
       "  </thead>\n",
       "  <tbody>\n",
       "    <tr>\n",
       "      <td>0.90</td>\n",
       "      <td>0.979804</td>\n",
       "      <td>0.0</td>\n",
       "    </tr>\n",
       "    <tr>\n",
       "      <td>0.85</td>\n",
       "      <td>0.979804</td>\n",
       "      <td>0.0</td>\n",
       "    </tr>\n",
       "    <tr>\n",
       "      <td>0.80</td>\n",
       "      <td>0.979804</td>\n",
       "      <td>0.0</td>\n",
       "    </tr>\n",
       "    <tr>\n",
       "      <td>0.75</td>\n",
       "      <td>0.979804</td>\n",
       "      <td>0.0</td>\n",
       "    </tr>\n",
       "  </tbody>\n",
       "</table>\n",
       "</div>"
      ],
      "text/plain": [
       "         score  recall\n",
       "0.90  0.979804     0.0\n",
       "0.85  0.979804     0.0\n",
       "0.80  0.979804     0.0\n",
       "0.75  0.979804     0.0"
      ]
     },
     "metadata": {},
     "output_type": "display_data"
    },
    {
     "name": "stdout",
     "output_type": "stream",
     "text": [
      "GOD_FashionV2_val\n"
     ]
    },
    {
     "data": {
      "text/html": [
       "<div>\n",
       "<style scoped>\n",
       "    .dataframe tbody tr th:only-of-type {\n",
       "        vertical-align: middle;\n",
       "    }\n",
       "\n",
       "    .dataframe tbody tr th {\n",
       "        vertical-align: top;\n",
       "    }\n",
       "\n",
       "    .dataframe thead th {\n",
       "        text-align: right;\n",
       "    }\n",
       "</style>\n",
       "<table border=\"1\" class=\"dataframe\">\n",
       "  <thead>\n",
       "    <tr style=\"text-align: right;\">\n",
       "      <th></th>\n",
       "      <th>score</th>\n",
       "      <th>recall</th>\n",
       "    </tr>\n",
       "  </thead>\n",
       "  <tbody>\n",
       "    <tr>\n",
       "      <td>0.90</td>\n",
       "      <td>0.933461</td>\n",
       "      <td>0.00</td>\n",
       "    </tr>\n",
       "    <tr>\n",
       "      <td>0.85</td>\n",
       "      <td>0.480494</td>\n",
       "      <td>0.42</td>\n",
       "    </tr>\n",
       "    <tr>\n",
       "      <td>0.80</td>\n",
       "      <td>0.438773</td>\n",
       "      <td>0.51</td>\n",
       "    </tr>\n",
       "    <tr>\n",
       "      <td>0.75</td>\n",
       "      <td>0.408460</td>\n",
       "      <td>0.57</td>\n",
       "    </tr>\n",
       "  </tbody>\n",
       "</table>\n",
       "</div>"
      ],
      "text/plain": [
       "         score  recall\n",
       "0.90  0.933461    0.00\n",
       "0.85  0.480494    0.42\n",
       "0.80  0.438773    0.51\n",
       "0.75  0.408460    0.57"
      ]
     },
     "metadata": {},
     "output_type": "display_data"
    },
    {
     "name": "stdout",
     "output_type": "stream",
     "text": [
      "GOD_furniture_val\n"
     ]
    },
    {
     "data": {
      "text/html": [
       "<div>\n",
       "<style scoped>\n",
       "    .dataframe tbody tr th:only-of-type {\n",
       "        vertical-align: middle;\n",
       "    }\n",
       "\n",
       "    .dataframe tbody tr th {\n",
       "        vertical-align: top;\n",
       "    }\n",
       "\n",
       "    .dataframe thead th {\n",
       "        text-align: right;\n",
       "    }\n",
       "</style>\n",
       "<table border=\"1\" class=\"dataframe\">\n",
       "  <thead>\n",
       "    <tr style=\"text-align: right;\">\n",
       "      <th></th>\n",
       "      <th>score</th>\n",
       "      <th>recall</th>\n",
       "    </tr>\n",
       "  </thead>\n",
       "  <tbody>\n",
       "    <tr>\n",
       "      <td>0.90</td>\n",
       "      <td>0.675321</td>\n",
       "      <td>0.13</td>\n",
       "    </tr>\n",
       "    <tr>\n",
       "      <td>0.85</td>\n",
       "      <td>0.572443</td>\n",
       "      <td>0.26</td>\n",
       "    </tr>\n",
       "    <tr>\n",
       "      <td>0.80</td>\n",
       "      <td>0.505756</td>\n",
       "      <td>0.37</td>\n",
       "    </tr>\n",
       "    <tr>\n",
       "      <td>0.75</td>\n",
       "      <td>0.465338</td>\n",
       "      <td>0.44</td>\n",
       "    </tr>\n",
       "  </tbody>\n",
       "</table>\n",
       "</div>"
      ],
      "text/plain": [
       "         score  recall\n",
       "0.90  0.675321    0.13\n",
       "0.85  0.572443    0.26\n",
       "0.80  0.505756    0.37\n",
       "0.75  0.465338    0.44"
      ]
     },
     "metadata": {},
     "output_type": "display_data"
    },
    {
     "name": "stdout",
     "output_type": "stream",
     "text": [
      "GOD_coco_2014_minival\n"
     ]
    },
    {
     "data": {
      "text/html": [
       "<div>\n",
       "<style scoped>\n",
       "    .dataframe tbody tr th:only-of-type {\n",
       "        vertical-align: middle;\n",
       "    }\n",
       "\n",
       "    .dataframe tbody tr th {\n",
       "        vertical-align: top;\n",
       "    }\n",
       "\n",
       "    .dataframe thead th {\n",
       "        text-align: right;\n",
       "    }\n",
       "</style>\n",
       "<table border=\"1\" class=\"dataframe\">\n",
       "  <thead>\n",
       "    <tr style=\"text-align: right;\">\n",
       "      <th></th>\n",
       "      <th>score</th>\n",
       "      <th>recall</th>\n",
       "    </tr>\n",
       "  </thead>\n",
       "  <tbody>\n",
       "    <tr>\n",
       "      <td>0.90</td>\n",
       "      <td>0.895914</td>\n",
       "      <td>0.01</td>\n",
       "    </tr>\n",
       "    <tr>\n",
       "      <td>0.85</td>\n",
       "      <td>0.865173</td>\n",
       "      <td>0.02</td>\n",
       "    </tr>\n",
       "    <tr>\n",
       "      <td>0.80</td>\n",
       "      <td>0.791398</td>\n",
       "      <td>0.05</td>\n",
       "    </tr>\n",
       "    <tr>\n",
       "      <td>0.75</td>\n",
       "      <td>0.637540</td>\n",
       "      <td>0.14</td>\n",
       "    </tr>\n",
       "  </tbody>\n",
       "</table>\n",
       "</div>"
      ],
      "text/plain": [
       "         score  recall\n",
       "0.90  0.895914    0.01\n",
       "0.85  0.865173    0.02\n",
       "0.80  0.791398    0.05\n",
       "0.75  0.637540    0.14"
      ]
     },
     "metadata": {},
     "output_type": "display_data"
    },
    {
     "data": {
      "image/png": "[encoded data removed]",
      "text/plain": [
       "<Figure size 432x288 with 1 Axes>"
      ]
     },
     "metadata": {
      "needs_background": "light"
     },
     "output_type": "display_data"
    }
   ],
   "source": [
    "modelName = 'Open800k_580/retr50_bs_4-iter_450000-lr_0.01' #'Open800k/frcnn_8gpuxbs2-iter_1600000-lr_0.02/' #\n",
    "prtTable = plotPR(modelName)\n",
    "for key in prtTable:\n",
    "    print (key)\n",
    "    display(prtTable[key])"
   ]
  },
  {
   "cell_type": "code",
   "execution_count": 64,
   "metadata": {},
   "outputs": [
    {
     "name": "stdout",
     "output_type": "stream",
     "text": [
      "/media/data/chnxi/GOD/Models/Open800k_580/frcnn_8gpuxbs2-iter_1600000-lr_0.02/Test_400-SoftNMS-False/GOD_OpenImage_val/generalized_rcnn\n",
      "dict_keys(['recallThrs', 'locPrecisions', 'locAPs', 'locAP50', 'locAPDict', 'locAP50Dict', 'loc_thrsh_at_prec', 'loc_thrsh_at_rec', 'classes'])\n",
      "[0.24888488165297393]\n",
      "/media/data/chnxi/GOD/Models/Open800k_580/frcnn_8gpuxbs2-iter_1600000-lr_0.02/Test_400-SoftNMS-False/GOD_FashionV2_val/generalized_rcnn\n",
      "dict_keys(['recallThrs', 'locPrecisions', 'locAPs', 'locAP50', 'locAPDict', 'locAP50Dict', 'loc_thrsh_at_prec', 'loc_thrsh_at_rec', 'classes'])\n",
      "[0.6579037306282028]\n",
      "/media/data/chnxi/GOD/Models/Open800k_580/frcnn_8gpuxbs2-iter_1600000-lr_0.02/Test_400-SoftNMS-False/GOD_furniture_val/generalized_rcnn\n",
      "dict_keys(['recallThrs', 'locPrecisions', 'locAPs', 'locAP50', 'locAPDict', 'locAP50Dict', 'loc_thrsh_at_prec', 'loc_thrsh_at_rec', 'classes'])\n",
      "[0.6084642709109537]\n",
      "/media/data/chnxi/GOD/Models/Open800k_580/frcnn_8gpuxbs2-iter_1600000-lr_0.02/Test_400-SoftNMS-False/GOD_coco_2014_minival/generalized_rcnn\n",
      "dict_keys(['recallThrs', 'locPrecisions', 'locAPs', 'locAP50', 'locAPDict', 'locAP50Dict', 'loc_thrsh_at_prec', 'loc_thrsh_at_rec', 'classes'])\n",
      "[0.3805693063591612]\n"
     ]
    },
    {
     "data": {
      "image/png": "[encoded data removed]",
      "text/plain": [
       "<Figure size 432x288 with 1 Axes>"
      ]
     },
     "metadata": {
      "needs_background": "light"
     },
     "output_type": "display_data"
    }
   ],
   "source": [
    "modelName = 'Open800k_580/frcnn_8gpuxbs2-iter_1600000-lr_0.02/' #\n",
    "prtTable = plotPR(modelName)\n",
    "print(prtTable['GOD_OpenImage_val'])"
   ]
  },
  {
   "cell_type": "code",
   "execution_count": 8,
   "metadata": {},
   "outputs": [
    {
     "data": {
      "text/html": [
       "<div>\n",
       "<style scoped>\n",
       "    .dataframe tbody tr th:only-of-type {\n",
       "        vertical-align: middle;\n",
       "    }\n",
       "\n",
       "    .dataframe tbody tr th {\n",
       "        vertical-align: top;\n",
       "    }\n",
       "\n",
       "    .dataframe thead th {\n",
       "        text-align: right;\n",
       "    }\n",
       "</style>\n",
       "<table border=\"1\" class=\"dataframe\">\n",
       "  <thead>\n",
       "    <tr style=\"text-align: right;\">\n",
       "      <th></th>\n",
       "      <th>score</th>\n",
       "      <th>recall</th>\n",
       "    </tr>\n",
       "  </thead>\n",
       "  <tbody>\n",
       "    <tr>\n",
       "      <th>0.75</th>\n",
       "      <td>0.637540</td>\n",
       "      <td>0.14</td>\n",
       "    </tr>\n",
       "    <tr>\n",
       "      <th>0.80</th>\n",
       "      <td>0.791398</td>\n",
       "      <td>0.05</td>\n",
       "    </tr>\n",
       "    <tr>\n",
       "      <th>0.85</th>\n",
       "      <td>0.865173</td>\n",
       "      <td>0.02</td>\n",
       "    </tr>\n",
       "    <tr>\n",
       "      <th>0.90</th>\n",
       "      <td>0.895914</td>\n",
       "      <td>0.01</td>\n",
       "    </tr>\n",
       "  </tbody>\n",
       "</table>\n",
       "</div>"
      ],
      "text/plain": [
       "         score  recall\n",
       "0.75  0.637540    0.14\n",
       "0.80  0.791398    0.05\n",
       "0.85  0.865173    0.02\n",
       "0.90  0.895914    0.01"
      ]
     },
     "execution_count": 8,
     "metadata": {},
     "output_type": "execute_result"
    }
   ],
   "source": [
    "df"
   ]
  },
  {
   "cell_type": "code",
   "execution_count": null,
   "metadata": {},
   "outputs": [],
   "source": []
  }
 ],
 "metadata": {
  "kernelspec": {
   "display_name": "Python 3",
   "language": "python",
   "name": "python3"
  },
  "language_info": {
   "codemirror_mode": {
    "name": "ipython",
    "version": 3
   },
   "file_extension": ".py",
   "mimetype": "text/x-python",
   "name": "python",
   "nbconvert_exporter": "python",
   "pygments_lexer": "ipython3",
   "version": "3.7.4"
  }
 },
 "nbformat": 4,
 "nbformat_minor": 2
}
