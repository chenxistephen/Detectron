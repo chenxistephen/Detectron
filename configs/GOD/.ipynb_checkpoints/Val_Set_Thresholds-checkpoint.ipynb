{
 "cells": [
  {
   "cell_type": "code",
   "execution_count": 21,
   "metadata": {},
   "outputs": [],
   "source": [
    "import pickle as pkl\n",
    "import json\n",
    "import os\n",
    "import os.path as osp\n",
    "import sys\n",
    "import pandas as pd"
   ]
  },
  {
   "cell_type": "code",
   "execution_count": 61,
   "metadata": {},
   "outputs": [],
   "source": [
    "godModelPath = '/media/data/chnxi/GOD/Models/'\n",
    "modelName = 'Open800k/frcnn_8gpuxbs2-iter_1600000-lr_0.02/' #'Open800k/retr50_bs_4-iter_450000-lr_0.01'\n",
    "test_scale = 400\n",
    "softNMS = False\n",
    "valSetList = ['GOD_OpenImage_val', 'GOD_FashionV2_val','GOD_furniture_val','GOD_coco_2014_minival']\n",
    "evalFolder = 'Test_{}-SoftNMS-{}'.format(test_scale, softNMS)\n",
    "modelType = 'retinanet' if 'ret' in modelName else 'generalized_rcnn'"
   ]
  },
  {
   "cell_type": "code",
   "execution_count": 62,
   "metadata": {},
   "outputs": [
    {
     "name": "stdout",
     "output_type": "stream",
     "text": [
      "/media/data/chnxi/GOD/Models/Open800k/frcnn_8gpuxbs2-iter_1600000-lr_0.02/Test_400-SoftNMS-False/GOD_OpenImage_val/generalized_rcnn\n",
      "dict_keys(['recallThrs', 'locPrecisions', 'locAPs', 'locAP50', 'locAPDict', 'locAP50Dict', 'loc_thrsh_at_prec', 'loc_thrsh_at_rec', 'classes'])\n",
      "{0.9: {0: {'score': 0.999639630317688, 'recall': 0.0}}, 0.85: {0: {'score': 0.999639630317688, 'recall': 0.0}}, 0.8: {0: {'score': 0.999639630317688, 'recall': 0.0}}, 0.75: {0: {'score': 0.999639630317688, 'recall': 0.0}}}\n",
      "{0.4: {0: {'score': 0.6310730576515198, 'precision': 0.32719551231261684}}}\n",
      "{0.9: {'score': 0.999639630317688, 'recall': 0.0}, 0.85: {'score': 0.999639630317688, 'recall': 0.0}, 0.8: {'score': 0.999639630317688, 'recall': 0.0}, 0.75: {'score': 0.999639630317688, 'recall': 0.0}}\n",
      "/media/data/chnxi/GOD/Models/Open800k/frcnn_8gpuxbs2-iter_1600000-lr_0.02/Test_400-SoftNMS-False/GOD_FashionV2_val/generalized_rcnn\n",
      "dict_keys(['recallThrs', 'locPrecisions', 'locAPs', 'locAP50', 'locAPDict', 'locAP50Dict', 'loc_thrsh_at_prec', 'loc_thrsh_at_rec', 'classes'])\n",
      "{0.9: {0: {'score': 0.9997437596321106, 'recall': 0.0}}, 0.85: {0: {'score': 0.8202243447303772, 'recall': 0.29}}, 0.8: {0: {'score': 0.6339143514633179, 'recall': 0.5}}, 0.75: {0: {'score': 0.5339505672454834, 'recall': 0.6}}}\n",
      "{0.4: {0: {'score': 0.7245669960975647, 'precision': 0.8275784753363229}}}\n",
      "{0.9: {'score': 0.9997437596321106, 'recall': 0.0}, 0.85: {'score': 0.8202243447303772, 'recall': 0.29}, 0.8: {'score': 0.6339143514633179, 'recall': 0.5}, 0.75: {'score': 0.5339505672454834, 'recall': 0.6}}\n",
      "/media/data/chnxi/GOD/Models/Open800k/frcnn_8gpuxbs2-iter_1600000-lr_0.02/Test_400-SoftNMS-False/GOD_furniture_val/generalized_rcnn\n",
      "dict_keys(['recallThrs', 'locPrecisions', 'locAPs', 'locAP50', 'locAPDict', 'locAP50Dict', 'loc_thrsh_at_prec', 'loc_thrsh_at_rec', 'classes'])\n",
      "{0.9: {0: {'score': 0.9639260768890381, 'recall': 0.12}}, 0.85: {0: {'score': 0.9121742248535156, 'recall': 0.24}}, 0.8: {0: {'score': 0.8540880680084229, 'recall': 0.33}}, 0.75: {0: {'score': 0.7677707672119141, 'recall': 0.43}}}\n",
      "{0.4: {0: {'score': 0.7968211770057678, 'precision': 0.7689978127979362}}}\n",
      "{0.9: {'score': 0.9639260768890381, 'recall': 0.12}, 0.85: {'score': 0.9121742248535156, 'recall': 0.24}, 0.8: {'score': 0.8540880680084229, 'recall': 0.33}, 0.75: {'score': 0.7677707672119141, 'recall': 0.43}}\n",
      "/media/data/chnxi/GOD/Models/Open800k/frcnn_8gpuxbs2-iter_1600000-lr_0.02/Test_400-SoftNMS-False/GOD_coco_2014_minival/generalized_rcnn\n",
      "dict_keys(['recallThrs', 'locPrecisions', 'locAPs', 'locAP50', 'locAPDict', 'locAP50Dict', 'loc_thrsh_at_prec', 'loc_thrsh_at_rec', 'classes'])\n",
      "{0.9: {0: {'score': 0.9997323155403137, 'recall': 0.0}}, 0.85: {0: {'score': 0.996904194355011, 'recall': 0.01}}, 0.8: {0: {'score': 0.9919669032096863, 'recall': 0.03}}, 0.75: {0: {'score': 0.9622948169708252, 'recall': 0.11}}}\n",
      "{0.4: {0: {'score': 0.6078859567642212, 'precision': 0.5218279875106443}}}\n",
      "{0.9: {'score': 0.9997323155403137, 'recall': 0.0}, 0.85: {'score': 0.996904194355011, 'recall': 0.01}, 0.8: {'score': 0.9919669032096863, 'recall': 0.03}, 0.75: {'score': 0.9622948169708252, 'recall': 0.11}}\n"
     ]
    },
    {
     "data": {
      "image/png": "[encoded data removed]",
      "text/plain": [
       "<Figure size 432x288 with 1 Axes>"
      ]
     },
     "metadata": {
      "needs_background": "light"
     },
     "output_type": "display_data"
    }
   ],
   "source": [
    "import matplotlib.pyplot as plt\n",
    "for ix, valset in enumerate(valSetList):\n",
    "    valFolder = osp.join(godModelPath, modelName, evalFolder, valset, modelType)\n",
    "    print (valFolder)\n",
    "    locPkl = osp.join(valFolder, 'localization_pr_curves.pkl')\n",
    "    d = pkl.load(open(locPkl,'rb'))\n",
    "    print (d.keys())\n",
    "    print (d['loc_thrsh_at_prec'])\n",
    "    print (d['loc_thrsh_at_rec'])\n",
    "    dd = {key:d['loc_thrsh_at_prec'][key][0] for key in d['loc_thrsh_at_prec']}\n",
    "    print (dd)\n",
    "    df  = pd.DataFrame.from_dict(dd, orient='index')\n",
    "    plt.title(valset)\n",
    "    col = colors[ix]\n",
    "    plt.plot(d['recallThrs'], d['locPrecisions'][0,:], col+'-')"
   ]
  },
  {
   "cell_type": "code",
   "execution_count": 59,
   "metadata": {},
   "outputs": [
    {
     "data": {
      "text/html": [
       "<div>\n",
       "<style scoped>\n",
       "    .dataframe tbody tr th:only-of-type {\n",
       "        vertical-align: middle;\n",
       "    }\n",
       "\n",
       "    .dataframe tbody tr th {\n",
       "        vertical-align: top;\n",
       "    }\n",
       "\n",
       "    .dataframe thead th {\n",
       "        text-align: right;\n",
       "    }\n",
       "</style>\n",
       "<table border=\"1\" class=\"dataframe\">\n",
       "  <thead>\n",
       "    <tr style=\"text-align: right;\">\n",
       "      <th></th>\n",
       "      <th>score</th>\n",
       "      <th>recall</th>\n",
       "    </tr>\n",
       "  </thead>\n",
       "  <tbody>\n",
       "    <tr>\n",
       "      <th>0.75</th>\n",
       "      <td>0.99964</td>\n",
       "      <td>0.0</td>\n",
       "    </tr>\n",
       "    <tr>\n",
       "      <th>0.80</th>\n",
       "      <td>0.99964</td>\n",
       "      <td>0.0</td>\n",
       "    </tr>\n",
       "    <tr>\n",
       "      <th>0.85</th>\n",
       "      <td>0.99964</td>\n",
       "      <td>0.0</td>\n",
       "    </tr>\n",
       "    <tr>\n",
       "      <th>0.90</th>\n",
       "      <td>0.99964</td>\n",
       "      <td>0.0</td>\n",
       "    </tr>\n",
       "  </tbody>\n",
       "</table>\n",
       "</div>"
      ],
      "text/plain": [
       "        score  recall\n",
       "0.75  0.99964     0.0\n",
       "0.80  0.99964     0.0\n",
       "0.85  0.99964     0.0\n",
       "0.90  0.99964     0.0"
      ]
     },
     "execution_count": 59,
     "metadata": {},
     "output_type": "execute_result"
    }
   ],
   "source": [
    "df"
   ]
  }
 ],
 "metadata": {
  "kernelspec": {
   "display_name": "Python 3",
   "language": "python",
   "name": "python3"
  },
  "language_info": {
   "codemirror_mode": {
    "name": "ipython",
    "version": 3
   },
   "file_extension": ".py",
   "mimetype": "text/x-python",
   "name": "python",
   "nbconvert_exporter": "python",
   "pygments_lexer": "ipython3",
   "version": "3.6.0"
  }
 },
 "nbformat": 4,
 "nbformat_minor": 2
}
